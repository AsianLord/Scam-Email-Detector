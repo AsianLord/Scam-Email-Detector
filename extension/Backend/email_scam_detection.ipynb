{
 "cells": [
  {
   "cell_type": "code",
   "execution_count": 1,
   "id": "a2513897-72e5-45bb-8d83-f7dd03afcb34",
   "metadata": {},
   "outputs": [
    {
     "name": "stdout",
     "output_type": "stream",
     "text": [
      "Defaulting to user installation because normal site-packages is not writeable\n",
      "Requirement already satisfied: textblob in /home/unheard/.local/lib/python3.10/site-packages (0.17.1)\n",
      "Requirement already satisfied: nltk>=3.1 in /home/unheard/.local/lib/python3.10/site-packages (from textblob) (3.8.1)\n",
      "Requirement already satisfied: regex>=2021.8.3 in /home/unheard/.local/lib/python3.10/site-packages (from nltk>=3.1->textblob) (2023.10.3)\n",
      "Requirement already satisfied: click in /home/unheard/.local/lib/python3.10/site-packages (from nltk>=3.1->textblob) (8.1.7)\n",
      "Requirement already satisfied: tqdm in /home/unheard/.local/lib/python3.10/site-packages (from nltk>=3.1->textblob) (4.66.1)\n",
      "Requirement already satisfied: joblib in /home/unheard/.local/lib/python3.10/site-packages (from nltk>=3.1->textblob) (1.3.2)\n"
     ]
    }
   ],
   "source": [
    "import sys\n",
    "!{sys.executable} -m pip install textblob"
   ]
  },
  {
   "cell_type": "code",
   "execution_count": 3,
   "id": "3c443bbd-1c4b-4df5-9828-33d64ac56e05",
   "metadata": {},
   "outputs": [
    {
     "name": "stderr",
     "output_type": "stream",
     "text": [
      "[nltk_data] Downloading package punkt to /home/unheard/nltk_data...\n",
      "[nltk_data]   Package punkt is already up-to-date!\n",
      "[nltk_data] Downloading package stopwords to\n",
      "[nltk_data]     /home/unheard/nltk_data...\n",
      "[nltk_data]   Package stopwords is already up-to-date!\n",
      "[nltk_data] Downloading package wordnet to /home/unheard/nltk_data...\n",
      "[nltk_data]   Package wordnet is already up-to-date!\n"
     ]
    }
   ],
   "source": [
    "import pandas as pd\n",
    "import numpy as np\n",
    "import nltk\n",
    "import string\n",
    "import pickle\n",
    "\n",
    "nltk.download('punkt')\n",
    "nltk.download('stopwords')\n",
    "nltk.download('wordnet')\n",
    "\n",
    "from textblob import TextBlob \n",
    "from sklearn import tree\n",
    "from sklearn.feature_extraction.text import TfidfVectorizer\n",
    "from sklearn.model_selection import train_test_split\n",
    "from sklearn.ensemble import RandomForestClassifier\n",
    "from sklearn.metrics import accuracy_score, confusion_matrix, ConfusionMatrixDisplay\n",
    "from nltk.corpus import stopwords"
   ]
  },
  {
   "cell_type": "markdown",
   "id": "11a02f26-bec1-4602-bc56-58ca7d7a83b7",
   "metadata": {},
   "source": [
    "# Read dataset for fraudulent emails"
   ]
  },
  {
   "cell_type": "code",
   "execution_count": 4,
   "id": "31d6f301-1681-4d78-b4d4-baa0392f03d3",
   "metadata": {},
   "outputs": [
    {
     "data": {
      "text/html": [
       "<div>\n",
       "<style scoped>\n",
       "    .dataframe tbody tr th:only-of-type {\n",
       "        vertical-align: middle;\n",
       "    }\n",
       "\n",
       "    .dataframe tbody tr th {\n",
       "        vertical-align: top;\n",
       "    }\n",
       "\n",
       "    .dataframe thead th {\n",
       "        text-align: right;\n",
       "    }\n",
       "</style>\n",
       "<table border=\"1\" class=\"dataframe\">\n",
       "  <thead>\n",
       "    <tr style=\"text-align: right;\">\n",
       "      <th></th>\n",
       "      <th>Email</th>\n",
       "      <th>Class</th>\n",
       "    </tr>\n",
       "  </thead>\n",
       "  <tbody>\n",
       "    <tr>\n",
       "      <th>0</th>\n",
       "      <td>Supply Quality China's EXCLUSIVE dimensions at...</td>\n",
       "      <td>1</td>\n",
       "    </tr>\n",
       "    <tr>\n",
       "      <th>1</th>\n",
       "      <td>over. SidLet me know. Thx.</td>\n",
       "      <td>0</td>\n",
       "    </tr>\n",
       "    <tr>\n",
       "      <th>2</th>\n",
       "      <td>Dear Friend,Greetings to you.I wish to accost ...</td>\n",
       "      <td>1</td>\n",
       "    </tr>\n",
       "    <tr>\n",
       "      <th>3</th>\n",
       "      <td>MR. CHEUNG PUIHANG SENG BANK LTD.DES VOEUX RD....</td>\n",
       "      <td>1</td>\n",
       "    </tr>\n",
       "    <tr>\n",
       "      <th>4</th>\n",
       "      <td>Not a surprising assessment from Embassy.</td>\n",
       "      <td>0</td>\n",
       "    </tr>\n",
       "    <tr>\n",
       "      <th>...</th>\n",
       "      <td>...</td>\n",
       "      <td>...</td>\n",
       "    </tr>\n",
       "    <tr>\n",
       "      <th>11924</th>\n",
       "      <td>Travel well. I'll look forward to hearing your...</td>\n",
       "      <td>0</td>\n",
       "    </tr>\n",
       "    <tr>\n",
       "      <th>11925</th>\n",
       "      <td>Dear friend, I wish to begin by way of introdu...</td>\n",
       "      <td>1</td>\n",
       "    </tr>\n",
       "    <tr>\n",
       "      <th>11926</th>\n",
       "      <td>Follow Up Flag: Follow upFlag Status: FlaggedM...</td>\n",
       "      <td>0</td>\n",
       "    </tr>\n",
       "    <tr>\n",
       "      <th>11927</th>\n",
       "      <td>sbwhoeop B6Saturday January 23 2010 4:09 PMRe:...</td>\n",
       "      <td>0</td>\n",
       "    </tr>\n",
       "    <tr>\n",
       "      <th>11928</th>\n",
       "      <td>FYI. We are revising call sheet for call to Ka...</td>\n",
       "      <td>0</td>\n",
       "    </tr>\n",
       "  </tbody>\n",
       "</table>\n",
       "<p>11929 rows × 2 columns</p>\n",
       "</div>"
      ],
      "text/plain": [
       "                                                   Email  Class\n",
       "0      Supply Quality China's EXCLUSIVE dimensions at...      1\n",
       "1                             over. SidLet me know. Thx.      0\n",
       "2      Dear Friend,Greetings to you.I wish to accost ...      1\n",
       "3      MR. CHEUNG PUIHANG SENG BANK LTD.DES VOEUX RD....      1\n",
       "4              Not a surprising assessment from Embassy.      0\n",
       "...                                                  ...    ...\n",
       "11924  Travel well. I'll look forward to hearing your...      0\n",
       "11925  Dear friend, I wish to begin by way of introdu...      1\n",
       "11926  Follow Up Flag: Follow upFlag Status: FlaggedM...      0\n",
       "11927  sbwhoeop B6Saturday January 23 2010 4:09 PMRe:...      0\n",
       "11928  FYI. We are revising call sheet for call to Ka...      0\n",
       "\n",
       "[11929 rows x 2 columns]"
      ]
     },
     "execution_count": 4,
     "metadata": {},
     "output_type": "execute_result"
    }
   ],
   "source": [
    "df = pd.read_csv(\"fraud_email_.csv\")\n",
    "df.rename(columns={\"Text\": \"Email\"}, inplace=True)\n",
    "df"
   ]
  },
  {
   "cell_type": "markdown",
   "id": "464add46-df92-48a8-97fc-99dc38a3be84",
   "metadata": {},
   "source": [
    "# Remove punctuation\n",
    "\n",
    "We need to remove the punctuation so that TextBlob can tokenise each word correctly.\n",
    "\n",
    "E.g. \\\n",
    "\"Hello world\" -> [\"Hello\", \"world\"] \\\n",
    "\"Hello world!\" -> [\"Hello\", \"world!\"]\n",
    "\n",
    "TextBlob will recognise \"world\" and \"world!\" as two separate models"
   ]
  },
  {
   "cell_type": "code",
   "execution_count": 5,
   "id": "f98eb54f-dd09-48ca-a561-db3f3bf83180",
   "metadata": {},
   "outputs": [
    {
     "data": {
      "text/html": [
       "<div>\n",
       "<style scoped>\n",
       "    .dataframe tbody tr th:only-of-type {\n",
       "        vertical-align: middle;\n",
       "    }\n",
       "\n",
       "    .dataframe tbody tr th {\n",
       "        vertical-align: top;\n",
       "    }\n",
       "\n",
       "    .dataframe thead th {\n",
       "        text-align: right;\n",
       "    }\n",
       "</style>\n",
       "<table border=\"1\" class=\"dataframe\">\n",
       "  <thead>\n",
       "    <tr style=\"text-align: right;\">\n",
       "      <th></th>\n",
       "      <th>Email</th>\n",
       "      <th>Class</th>\n",
       "    </tr>\n",
       "  </thead>\n",
       "  <tbody>\n",
       "    <tr>\n",
       "      <th>0</th>\n",
       "      <td>(s, u, p, p, l, y,  , q, u, a, l, i, t, y,  , ...</td>\n",
       "      <td>1</td>\n",
       "    </tr>\n",
       "    <tr>\n",
       "      <th>1</th>\n",
       "      <td>(o, v, e, r,  ,  , s, i, d, l, e, t,  , m, e, ...</td>\n",
       "      <td>0</td>\n",
       "    </tr>\n",
       "    <tr>\n",
       "      <th>2</th>\n",
       "      <td>(d, e, a, r,  , f, r, i, e, n, d,  , g, r, e, ...</td>\n",
       "      <td>1</td>\n",
       "    </tr>\n",
       "    <tr>\n",
       "      <th>3</th>\n",
       "      <td>(m, r,  ,  , c, h, e, u, n, g,  , p, u, i, h, ...</td>\n",
       "      <td>1</td>\n",
       "    </tr>\n",
       "    <tr>\n",
       "      <th>4</th>\n",
       "      <td>(n, o, t,  , a,  , s, u, r, p, r, i, s, i, n, ...</td>\n",
       "      <td>0</td>\n",
       "    </tr>\n",
       "    <tr>\n",
       "      <th>...</th>\n",
       "      <td>...</td>\n",
       "      <td>...</td>\n",
       "    </tr>\n",
       "    <tr>\n",
       "      <th>11924</th>\n",
       "      <td>(t, r, a, v, e, l,  , w, e, l, l,  ,  , i,  , ...</td>\n",
       "      <td>0</td>\n",
       "    </tr>\n",
       "    <tr>\n",
       "      <th>11925</th>\n",
       "      <td>(d, e, a, r,  , f, r, i, e, n, d,  ,  , i,  , ...</td>\n",
       "      <td>1</td>\n",
       "    </tr>\n",
       "    <tr>\n",
       "      <th>11926</th>\n",
       "      <td>(f, o, l, l, o, w,  , u, p,  , f, l, a, g,  , ...</td>\n",
       "      <td>0</td>\n",
       "    </tr>\n",
       "    <tr>\n",
       "      <th>11927</th>\n",
       "      <td>(s, b, w, h, o, e, o, p,  , b, 6, s, a, t, u, ...</td>\n",
       "      <td>0</td>\n",
       "    </tr>\n",
       "    <tr>\n",
       "      <th>11928</th>\n",
       "      <td>(f, y, i,  ,  , w, e,  , a, r, e,  , r, e, v, ...</td>\n",
       "      <td>0</td>\n",
       "    </tr>\n",
       "  </tbody>\n",
       "</table>\n",
       "<p>11929 rows × 2 columns</p>\n",
       "</div>"
      ],
      "text/plain": [
       "                                                   Email  Class\n",
       "0      (s, u, p, p, l, y,  , q, u, a, l, i, t, y,  , ...      1\n",
       "1      (o, v, e, r,  ,  , s, i, d, l, e, t,  , m, e, ...      0\n",
       "2      (d, e, a, r,  , f, r, i, e, n, d,  , g, r, e, ...      1\n",
       "3      (m, r,  ,  , c, h, e, u, n, g,  , p, u, i, h, ...      1\n",
       "4      (n, o, t,  , a,  , s, u, r, p, r, i, s, i, n, ...      0\n",
       "...                                                  ...    ...\n",
       "11924  (t, r, a, v, e, l,  , w, e, l, l,  ,  , i,  , ...      0\n",
       "11925  (d, e, a, r,  , f, r, i, e, n, d,  ,  , i,  , ...      1\n",
       "11926  (f, o, l, l, o, w,  , u, p,  , f, l, a, g,  , ...      0\n",
       "11927  (s, b, w, h, o, e, o, p,  , b, 6, s, a, t, u, ...      0\n",
       "11928  (f, y, i,  ,  , w, e,  , a, r, e,  , r, e, v, ...      0\n",
       "\n",
       "[11929 rows x 2 columns]"
      ]
     },
     "execution_count": 5,
     "metadata": {},
     "output_type": "execute_result"
    }
   ],
   "source": [
    "def convert_to_text_blob(text):\n",
    "    text = str(text).lower()\n",
    "    text = text.translate(str.maketrans(string.punctuation, \" \" * len(string.punctuation)))\n",
    "    return TextBlob(text)\n",
    "\n",
    "df[\"Email\"] = df[\"Email\"].map(convert_to_text_blob)\n",
    "\n",
    "df"
   ]
  },
  {
   "cell_type": "markdown",
   "id": "18d28a3d-6e3b-405b-a2fb-abd14495a44b",
   "metadata": {},
   "source": [
    "## Stemming"
   ]
  },
  {
   "cell_type": "code",
   "execution_count": 6,
   "id": "f53e56e1-cbde-48d9-82b9-ea0ea26d46d6",
   "metadata": {},
   "outputs": [],
   "source": [
    "df[\"Email\"] = df[\"Email\"].map(lambda x: x.words)"
   ]
  },
  {
   "cell_type": "markdown",
   "id": "7307841e-4ab0-4c79-9af8-11238768fa59",
   "metadata": {},
   "source": [
    "### Remove stopwords\n",
    "\n",
    "In order to reduce processing and to remove words that are commonly used in the english language"
   ]
  },
  {
   "cell_type": "code",
   "execution_count": 7,
   "id": "1f9fd498-cf6f-4623-9b98-53e5321cdfc2",
   "metadata": {},
   "outputs": [],
   "source": [
    "def remove_stopwords(word_list):\n",
    "    stopword_free_list = [word for word in word_list if word not in stopwords.words(\"english\")]\n",
    "    return stopword_free_list\n",
    "\n",
    "df[\"Email\"] = df[\"Email\"].map(remove_stopwords)"
   ]
  },
  {
   "cell_type": "markdown",
   "id": "70ab74cd-7f13-4522-ab09-1bac66574592",
   "metadata": {},
   "source": [
    "### Stem the words and join into a string"
   ]
  },
  {
   "cell_type": "code",
   "execution_count": 8,
   "id": "ce3edd31-2b3c-47d8-97af-10ab88fa627c",
   "metadata": {},
   "outputs": [
    {
     "data": {
      "text/html": [
       "<div>\n",
       "<style scoped>\n",
       "    .dataframe tbody tr th:only-of-type {\n",
       "        vertical-align: middle;\n",
       "    }\n",
       "\n",
       "    .dataframe tbody tr th {\n",
       "        vertical-align: top;\n",
       "    }\n",
       "\n",
       "    .dataframe thead th {\n",
       "        text-align: right;\n",
       "    }\n",
       "</style>\n",
       "<table border=\"1\" class=\"dataframe\">\n",
       "  <thead>\n",
       "    <tr style=\"text-align: right;\">\n",
       "      <th></th>\n",
       "      <th>Email</th>\n",
       "      <th>Class</th>\n",
       "    </tr>\n",
       "  </thead>\n",
       "  <tbody>\n",
       "    <tr>\n",
       "      <th>0</th>\n",
       "      <td>suppli qualiti china exclus dimens unbeat pric...</td>\n",
       "      <td>1</td>\n",
       "    </tr>\n",
       "    <tr>\n",
       "      <th>1</th>\n",
       "      <td>sidlet know thx</td>\n",
       "      <td>0</td>\n",
       "    </tr>\n",
       "    <tr>\n",
       "      <th>2</th>\n",
       "      <td>dear friend greet wish accost request would im...</td>\n",
       "      <td>1</td>\n",
       "    </tr>\n",
       "    <tr>\n",
       "      <th>3</th>\n",
       "      <td>mr cheung puihang seng bank ltd de voeux rd br...</td>\n",
       "      <td>1</td>\n",
       "    </tr>\n",
       "    <tr>\n",
       "      <th>4</th>\n",
       "      <td>surpris assess embassi</td>\n",
       "      <td>0</td>\n",
       "    </tr>\n",
       "    <tr>\n",
       "      <th>...</th>\n",
       "      <td>...</td>\n",
       "      <td>...</td>\n",
       "    </tr>\n",
       "    <tr>\n",
       "      <th>11924</th>\n",
       "      <td>travel well look forward hear report</td>\n",
       "      <td>0</td>\n",
       "    </tr>\n",
       "    <tr>\n",
       "      <th>11925</th>\n",
       "      <td>dear friend wish begin way introduct william m...</td>\n",
       "      <td>1</td>\n",
       "    </tr>\n",
       "    <tr>\n",
       "      <th>11926</th>\n",
       "      <td>follow flag follow upflag statu flaggedmor info</td>\n",
       "      <td>0</td>\n",
       "    </tr>\n",
       "    <tr>\n",
       "      <th>11927</th>\n",
       "      <td>sbwhoeop b6saturday januari 23 2010 4 09 pmre ...</td>\n",
       "      <td>0</td>\n",
       "    </tr>\n",
       "    <tr>\n",
       "      <th>11928</th>\n",
       "      <td>fyi revis call sheet call karzai potenti sunday</td>\n",
       "      <td>0</td>\n",
       "    </tr>\n",
       "  </tbody>\n",
       "</table>\n",
       "<p>11929 rows × 2 columns</p>\n",
       "</div>"
      ],
      "text/plain": [
       "                                                   Email  Class\n",
       "0      suppli qualiti china exclus dimens unbeat pric...      1\n",
       "1                                        sidlet know thx      0\n",
       "2      dear friend greet wish accost request would im...      1\n",
       "3      mr cheung puihang seng bank ltd de voeux rd br...      1\n",
       "4                                 surpris assess embassi      0\n",
       "...                                                  ...    ...\n",
       "11924               travel well look forward hear report      0\n",
       "11925  dear friend wish begin way introduct william m...      1\n",
       "11926    follow flag follow upflag statu flaggedmor info      0\n",
       "11927  sbwhoeop b6saturday januari 23 2010 4 09 pmre ...      0\n",
       "11928    fyi revis call sheet call karzai potenti sunday      0\n",
       "\n",
       "[11929 rows x 2 columns]"
      ]
     },
     "execution_count": 8,
     "metadata": {},
     "output_type": "execute_result"
    }
   ],
   "source": [
    "def stem_words(word_list):\n",
    "    stemmed_words = []\n",
    "    for word in word_list:\n",
    "        stemmed_words.append(word.stem())\n",
    "\n",
    "    return \" \".join(stemmed_words)\n",
    "\n",
    "df[\"Email\"] = df[\"Email\"].map(stem_words)\n",
    "\n",
    "df"
   ]
  },
  {
   "cell_type": "markdown",
   "id": "68cd0793-0edc-4371-b4cc-9eee101230ab",
   "metadata": {},
   "source": [
    "# Creating the machine learning model\n",
    "\n",
    "### First convert our text using TfidfVectorizer to count the frequency of each word in an email."
   ]
  },
  {
   "cell_type": "code",
   "execution_count": 9,
   "id": "37b7e029-a16b-45e0-9e6b-cc05d74d3916",
   "metadata": {},
   "outputs": [],
   "source": [
    "vectorizer = TfidfVectorizer(max_features=10000, ngram_range=(1, 3))\n",
    "\n",
    "x = vectorizer.fit_transform(df[\"Email\"]).toarray()\n",
    "y = df[\"Class\"]"
   ]
  },
  {
   "cell_type": "markdown",
   "id": "42170df0-2976-4db0-8e55-655b586f3a3d",
   "metadata": {},
   "source": [
    "### Split the dataset into a training and test set"
   ]
  },
  {
   "cell_type": "code",
   "execution_count": 10,
   "id": "90d96f2d-ae32-4398-8215-27c3ceb66df0",
   "metadata": {},
   "outputs": [],
   "source": [
    "x_train, x_test, y_train, y_test = train_test_split(x, y, test_size=0.2, random_state=42)"
   ]
  },
  {
   "cell_type": "markdown",
   "id": "c0824238-f447-4ca3-9400-4f469491dbac",
   "metadata": {},
   "source": [
    "### Create a random forrest classifier to train our model on"
   ]
  },
  {
   "cell_type": "code",
   "execution_count": 11,
   "id": "178939a7-3fa1-4ea6-8515-230f578324b4",
   "metadata": {},
   "outputs": [
    {
     "data": {
      "text/html": [
       "<style>#sk-container-id-1 {color: black;}#sk-container-id-1 pre{padding: 0;}#sk-container-id-1 div.sk-toggleable {background-color: white;}#sk-container-id-1 label.sk-toggleable__label {cursor: pointer;display: block;width: 100%;margin-bottom: 0;padding: 0.3em;box-sizing: border-box;text-align: center;}#sk-container-id-1 label.sk-toggleable__label-arrow:before {content: \"▸\";float: left;margin-right: 0.25em;color: #696969;}#sk-container-id-1 label.sk-toggleable__label-arrow:hover:before {color: black;}#sk-container-id-1 div.sk-estimator:hover label.sk-toggleable__label-arrow:before {color: black;}#sk-container-id-1 div.sk-toggleable__content {max-height: 0;max-width: 0;overflow: hidden;text-align: left;background-color: #f0f8ff;}#sk-container-id-1 div.sk-toggleable__content pre {margin: 0.2em;color: black;border-radius: 0.25em;background-color: #f0f8ff;}#sk-container-id-1 input.sk-toggleable__control:checked~div.sk-toggleable__content {max-height: 200px;max-width: 100%;overflow: auto;}#sk-container-id-1 input.sk-toggleable__control:checked~label.sk-toggleable__label-arrow:before {content: \"▾\";}#sk-container-id-1 div.sk-estimator input.sk-toggleable__control:checked~label.sk-toggleable__label {background-color: #d4ebff;}#sk-container-id-1 div.sk-label input.sk-toggleable__control:checked~label.sk-toggleable__label {background-color: #d4ebff;}#sk-container-id-1 input.sk-hidden--visually {border: 0;clip: rect(1px 1px 1px 1px);clip: rect(1px, 1px, 1px, 1px);height: 1px;margin: -1px;overflow: hidden;padding: 0;position: absolute;width: 1px;}#sk-container-id-1 div.sk-estimator {font-family: monospace;background-color: #f0f8ff;border: 1px dotted black;border-radius: 0.25em;box-sizing: border-box;margin-bottom: 0.5em;}#sk-container-id-1 div.sk-estimator:hover {background-color: #d4ebff;}#sk-container-id-1 div.sk-parallel-item::after {content: \"\";width: 100%;border-bottom: 1px solid gray;flex-grow: 1;}#sk-container-id-1 div.sk-label:hover label.sk-toggleable__label {background-color: #d4ebff;}#sk-container-id-1 div.sk-serial::before {content: \"\";position: absolute;border-left: 1px solid gray;box-sizing: border-box;top: 0;bottom: 0;left: 50%;z-index: 0;}#sk-container-id-1 div.sk-serial {display: flex;flex-direction: column;align-items: center;background-color: white;padding-right: 0.2em;padding-left: 0.2em;position: relative;}#sk-container-id-1 div.sk-item {position: relative;z-index: 1;}#sk-container-id-1 div.sk-parallel {display: flex;align-items: stretch;justify-content: center;background-color: white;position: relative;}#sk-container-id-1 div.sk-item::before, #sk-container-id-1 div.sk-parallel-item::before {content: \"\";position: absolute;border-left: 1px solid gray;box-sizing: border-box;top: 0;bottom: 0;left: 50%;z-index: -1;}#sk-container-id-1 div.sk-parallel-item {display: flex;flex-direction: column;z-index: 1;position: relative;background-color: white;}#sk-container-id-1 div.sk-parallel-item:first-child::after {align-self: flex-end;width: 50%;}#sk-container-id-1 div.sk-parallel-item:last-child::after {align-self: flex-start;width: 50%;}#sk-container-id-1 div.sk-parallel-item:only-child::after {width: 0;}#sk-container-id-1 div.sk-dashed-wrapped {border: 1px dashed gray;margin: 0 0.4em 0.5em 0.4em;box-sizing: border-box;padding-bottom: 0.4em;background-color: white;}#sk-container-id-1 div.sk-label label {font-family: monospace;font-weight: bold;display: inline-block;line-height: 1.2em;}#sk-container-id-1 div.sk-label-container {text-align: center;}#sk-container-id-1 div.sk-container {/* jupyter's `normalize.less` sets `[hidden] { display: none; }` but bootstrap.min.css set `[hidden] { display: none !important; }` so we also need the `!important` here to be able to override the default hidden behavior on the sphinx rendered scikit-learn.org. See: https://github.com/scikit-learn/scikit-learn/issues/21755 */display: inline-block !important;position: relative;}#sk-container-id-1 div.sk-text-repr-fallback {display: none;}</style><div id=\"sk-container-id-1\" class=\"sk-top-container\"><div class=\"sk-text-repr-fallback\"><pre>RandomForestClassifier()</pre><b>In a Jupyter environment, please rerun this cell to show the HTML representation or trust the notebook. <br />On GitHub, the HTML representation is unable to render, please try loading this page with nbviewer.org.</b></div><div class=\"sk-container\" hidden><div class=\"sk-item\"><div class=\"sk-estimator sk-toggleable\"><input class=\"sk-toggleable__control sk-hidden--visually\" id=\"sk-estimator-id-1\" type=\"checkbox\" checked><label for=\"sk-estimator-id-1\" class=\"sk-toggleable__label sk-toggleable__label-arrow\">RandomForestClassifier</label><div class=\"sk-toggleable__content\"><pre>RandomForestClassifier()</pre></div></div></div></div></div>"
      ],
      "text/plain": [
       "RandomForestClassifier()"
      ]
     },
     "execution_count": 11,
     "metadata": {},
     "output_type": "execute_result"
    }
   ],
   "source": [
    "rf_classifier = RandomForestClassifier()\n",
    "\n",
    "rf_classifier.fit(x_train, y_train)"
   ]
  },
  {
   "cell_type": "markdown",
   "id": "cac45ad1-fa75-4f78-b249-2153955ff44e",
   "metadata": {},
   "source": [
    "### Use the Random Forest Classifier to predict the test data\n",
    "\n",
    "We also find the confusion matrix and compute the accuracy to determine how well our model performs"
   ]
  },
  {
   "cell_type": "code",
   "execution_count": 12,
   "id": "d02923e8-ea0b-46f3-bfd8-442bfbffaaf7",
   "metadata": {},
   "outputs": [
    {
     "name": "stdout",
     "output_type": "stream",
     "text": [
      "Accuracy: 0.9911986588432523\n"
     ]
    },
    {
     "data": {
      "image/png": "[encoded data removed]",
      "text/plain": [
       "<Figure size 640x480 with 2 Axes>"
      ]
     },
     "metadata": {},
     "output_type": "display_data"
    }
   ],
   "source": [
    "y_pred = rf_classifier.predict(x_test)\n",
    "\n",
    "cm = confusion_matrix(y_test, y_pred)\n",
    "ConfusionMatrixDisplay(confusion_matrix=cm).plot();\n",
    "\n",
    "print(\"Accuracy: \" + str(accuracy_score(y_test, y_pred)))"
   ]
  },
  {
   "cell_type": "markdown",
   "id": "4203f0fd-1c89-421a-bbaf-f0c5aec3e31e",
   "metadata": {},
   "source": [
    "# Creating an interface for using the model\n",
    "\n",
    "### Saving the model and vectorizer for future use\n",
    "From our test data, the model has a very high accuracy, so we will save the model so that we do not need to train it every time we run the program"
   ]
  },
  {
   "cell_type": "code",
   "execution_count": 13,
   "id": "138fea31-6648-4722-8076-5c4ac30da439",
   "metadata": {},
   "outputs": [],
   "source": [
    "model_filename = \"email_scam_detection_model.sav\"\n",
    "vectorizer_filename = \"email_scam_vectorizer.pkl\"\n",
    "\n",
    "pickle.dump(rf_classifier, open(model_filename, \"wb\"))\n",
    "pickle.dump(vectorizer, open(vectorizer_filename, \"wb\"))"
   ]
  },
  {
   "cell_type": "markdown",
   "id": "83a07212-a4a2-46cc-85c7-4d84e442c843",
   "metadata": {},
   "source": [
    "### Create some functions to do a prediction on an email \n",
    "\n",
    "This will include a function that will do all of the preprocessing that we performed on the dataset previously"
   ]
  },
  {
   "cell_type": "code",
   "execution_count": 14,
   "id": "465a3e9c-ad57-4f24-a6ce-f49623357246",
   "metadata": {},
   "outputs": [],
   "source": [
    "def preprocess_email(email):\n",
    "    # Convert the email into lower case and remove all of the punctuation\n",
    "    email = str(email).lower()\n",
    "    no_punc_email = email.translate(str.maketrans(string.punctuation, \" \" * len(string.punctuation)))\n",
    "\n",
    "    # Convert this email text into a TextBlob to prepare for further processing\n",
    "    tb_email = TextBlob(no_punc_email)\n",
    "\n",
    "    # Tokenise the email into its words and remove all of the stopwords\n",
    "    email_words = tb_email.words\n",
    "    stopword_free_list = [word for word in email_words if word not in stopwords.words(\"english\")]\n",
    "\n",
    "    # Stem each word of the email word list and join the list into a full string\n",
    "    stemmed_words = []\n",
    "    for word in stopword_free_list:\n",
    "        stemmed_words.append(word.stem())\n",
    "    stemmed_words = \" \".join(stemmed_words)\n",
    "\n",
    "    # Finally load the TfidfVectorizer so we can transform the processed email into a format for the model to predict on\n",
    "    vectorizer = pickle.load(open(vectorizer_filename, \"rb\"))\n",
    "    return vectorizer.transform([stemmed_words]).toarray()\n",
    "\n",
    "def predict(email):\n",
    "    # Process the email into the correct format\n",
    "    processed_email = preprocess_email(email)\n",
    "\n",
    "    # Load the fraud email detection model and predict whether the email is fraudulent or not\n",
    "    fraud_email_model = pickle.load(open(model_filename, \"rb\"))\n",
    "    return fraud_email_model.predict(processed_email)[0]"
   ]
  },
  {
   "cell_type": "markdown",
   "id": "b64292fe-98f2-4f02-956b-45a2e389ad66",
   "metadata": {},
   "source": [
    "### Testing out the model on a further normal and fraudulent email "
   ]
  },
  {
   "cell_type": "code",
   "execution_count": 15,
   "id": "a6d8984b-f9e5-4123-a232-45fa9666e041",
   "metadata": {},
   "outputs": [
    {
     "name": "stdout",
     "output_type": "stream",
     "text": [
      "Normal email prediction: 0\n",
      "Fradulent email prediction: 1\n"
     ]
    }
   ],
   "source": [
    "normal_email = \"\"\"The IndependentNovember 12 2009sbwhoeopThursday November 12 2009 8:52 AMHFYI: Murdoch makes his move to Cameron. Attack on BBC to follow. SidHas Cameron done a deal with Murdoch?By Andy McSmithLord Mandelson's attack shines spotlight on Tory leader'slinks with media mogulDavid Cameron has been accused of making a \"contract\" with Britain's biggest media company to trade political supportbefore an election for government favours afterwards if the Tories win.The accusation was levelled yesterday by the Business Secretary Peter Mandelson who is increasingly the public face ofGordon Brown's government. Ministers are angry at the campaign that The Sun has run against the Prime Minister all thisweek over the spelling mistakes in a letter Mr Brown sent to the mother of a young soldier killed in Afghanistan.They suspect that the Conservative Party has been tailoring its policies on media regulation and the BBC to suit thecommercial interests of News International which owns The Sun and that the paper's aggressive support for the Tories isa pay-off that could spread to other parts of the mass media.Examples of the apparent tie-in between what News International's boss James Murdoch wants and what DavidCameron is ready to promise include the recent decision by the Conservatives to abandon the idea of \"top slicing\" theBBC licence fee. It had been proposed that part of the money paid to the BBC would be siphoned off to help regionaltelevision companies meet the threat from the internet. But this would also have helped them compete more effectivelyagainst Sky News which is part of the Murdoch media empire.When the policy was abandoned in September Jeremy Hunt the shadow Culture Secretary said that it was becauseenacting it might make the commercial television companies \"focus not on attracting viewers but on attracting subsidies\".There was no gain for the BBC in the climbdown because David Cameron had already said that the Tories will freeze thelicence fee. What it will mean is that the BBC's income will be capped without the regional television companies seeingany government help which will strengthen the market position of Britain's only satellite television company Sky. \"Thiswas done for News International\" a Tory insider said yesterday. \"Murdoch wants Sky to go head to head with the BBC.He doesn't want the independent companies strengthened.\"In April 2008 James Murdoch complained bitterly about the media regulator Ofcom in his first major speech after takingover as chief executive of News Corporation in Europe and Asia. The following year David Cameron announced that aConservative government would cut Ofcom down to size.Last summer James Murdoch attacked the \"abysmal record\" of the BBC Trust - the body created by Labour to over seethe BBC - in a lecture he gave at the Edinburgh Festival singling out its \"total failure\" to stop the BBC buying the LonelyPlanet travel guides a takeover that Murdoch denounced as an \"egregious\" invasion of private enterprise by the state.Less than two months later Jeremy Hunt promised that the Tories would abolish the Trust.In the same lecture Murdoch complained that BBC performers like Jonathan Ross are being paid salaries that \"nocommercial competitor can afford\". He had barely uttered the words before Ed Vaizey a shadow media ministerpromised that a Tory government would compel the BBC to publish the salaries of its top performers.Lord Mandelson alleged yesterday that the Conservatives and News International had \"effectively formed a contract overthe head incidentally of the newspaper's editor and their readers in which they are sort of bound to one another\".Speaking to the BBC's Today programme he added: \"What The Sun can do for the Conservatives during the election isone part of the contract and presumably what the Conservatives can do for News International if they are elected is theother side of the bargain. But there is a wider question. When The Sun creates the news in this way this is then followedup by Sky News which then puts pressure on the BBC to follow suit.\"This was \"absolutely categorically\" denied yesterday by The Sun's political editor Tom Newton Dunn who accused LordMandelson of talking \"preposterous nonsense\".The Sun which supported Labour through three general elections under Tony Blair's leadership announced that it wasjumping ship on the day that Gordon Brown delivered his annual speech to the Labour Party conference in September.Its onslaught on Gordon Brown for the mistakes made in a handwritten letter to Jacqui Janes is the most aggressiveattack that the newspaper has directed at any Labour Party leader since Neil Kinnock stood down after losing the 1992general election a defeat for which The Sun claimed victory with the slogan \"It was The Sun wot won it\".But there were signs yesterday that the attack may have rebounded on The Sun. Mr Brown who is blind in one eye hasadmitted that his handwriting is bad and has apologised to Mrs Janes whose 20-year-old son Jamie was killed by amakeshift bomb in Afghanistan last month.A poll yesterday for the website PoliticsHome whose main shareholder is the Conservative Party deputy chairman LordAshcroft found that 65 per cent of those polled thought that The Sun's attack was \"inappropriate\" compared with 23 percent who thought it was \"legitimate\".The closeness of the new Tory-Sun axis is shown up by the revelation from an inside source that David Cameronpersonally consulted the editor of The Sun Dominic Mohan in three separate conversations before he abandoned his\"cast-iron\" promise to hold a referendum on the Lisbon Treaty now that all 27 members states of the EU have ratified it.Mr Cameron was understandably wary of how The Sun might react to the abandonment of that promise. The paper hascampaigned for years against what it sees as the growth of an EU superstate. It was in an open letter to readers of TheSun that Cameron first made his guarantee two years ago.His announcement that a referendum is off the agenda was subjected to a scathing attack in'the Daily Mail but in TheSun it was given kid-glove treatment under the headline \"Cameron's crusade for UK rights\".The person behind this aggressively pro-Tory policy is James Murdoch not his father Rupert who created The Sunvirtually from scratch in the 1970s. Rupert Murdoch claimed in an interview with Sky News Australia that he \"regretted\" hisson's decision to turn against Gordon Brown \"who is a friend of mine\" but defended it on the grounds that Brown hasbeen a \"disappointment\".Yesterday The Times another Murdoch newspaper announced that its veteran political editor Phil Webster is leavingthe Commons where he has been based for decades. Mr Webster is very well thought of by New Labour. Hisreplacement Roland Watson was a friend of David Cameron's at Eton but has no political ties with the Tories.Tom Newton Dunn newly appointed as The Sun's political editor is another Old Etonian. His father Bill used to be aTory MEP but defected to the Liberal Democrats in 2000.Independent News and Media Limited\"\"\"\n",
    "\n",
    "fraudulent_email = \"\"\"Dear Sir, It is my great pleasure to write you this letter onbehalf of my colleagues. Your information were givento me by a member of the South African ExportPromotion Council (SAEPC) who was with the BlackEconomic Empowerment Commission (Government)delegation on a trip to the United States during abilateral conference talk to encourage foreigninvestors. I have decided to seek a confidentialco-operation with you in execution of a deal hereunderfor the benefit of all parties, and hope you will keepit confidential because of the nature of thisbusiness. Within the Department of Mining Resources where I workas the Director of Project Implementation, withco-operation of two other top officials, we have inour possession, an overdue payment in US funds. The said funds represent certain percentage of thecontract value executed on behalf of my Ministry by aforeign contracting firm, which we the officialsover-invoiced to the amount ofUS$41,500,000.00 (Forty One Million Five HundredThousand United States Dollars). Though the actualcontract cost has been paid to the originalcontractor, leaving the excess balance unclaimed. The Government of the Republic of South Africa believethat private investment in general, and foreign directinvestment in particular, are the real engines forsustainable economic development, for which reason ithas continued to encouraged investment in the keygrowth-oriented sector of Mining with sinceredetermination to pay foreign contractors all debtsowed to them, so as to continue to enjoy closerelationship, and mutually beneficial co-operationwith foreign governments and non-governmentalfinancial agencies. As a result we included our billsfor approvals with the co-operation of some officialsat the Department of Finance and the Reserve Bank ofSouth Africa (RBSA). We are seeking your assistance tobe the beneficiary of the unclaimed funds, since weare not allowed to operate foreign account. Thechanging of beneficiary's information/ details andother forms of documentation upon application forclaim to reflect the contract money and its approvalswill be secured on behalf of your company or yourself. I have the authority of my colleagues involved topropose that, should you be willing to assist us inthis transaction your share as compensation will be20% while my colleagues and I shall receive 70%, andthe balance of 10% shall be used to reimburse allexpenditures, taxes and miscellaneous expenses soincurred. It does not matter whether or not your company doescontract projects of the nature described here. Theassumption is that your company won the major contractand subcontracted it to other companies. More oftenthan not, big trading companies and firms of unrelatedfields win major contracts, and subcontract to morespecialized firms for execution. This business itself is 100% safe, provided you treatit with utmost confidentiality. Also yourspecialization is not a hindrance to the successfulexecution of this mutual beneficiary transaction. Ihave reposed my confidence in you and hope that youwill not disappoint us. Kindly notify me for furtherdetails, upon your acceptance of this proposal.Pls send all correspondence to potobo2@netscape.net Regards,Engr Paul O. Otobo.potobo2@netscape.net\"\"\"\n",
    "\n",
    "print(\"Normal email prediction: \" + str(predict(normal_email)))\n",
    "\n",
    "print(\"Fradulent email prediction: \" + str(predict(fraudulent_email)))"
   ]
  },
  {
   "cell_type": "code",
   "execution_count": null,
   "id": "4526644d-6a0a-4508-9f43-f0ec350ae6a0",
   "metadata": {},
   "outputs": [],
   "source": []
  }
 ],
 "metadata": {
  "kernelspec": {
   "display_name": "Python 3 (ipykernel)",
   "language": "python",
   "name": "python3"
  },
  "language_info": {
   "codemirror_mode": {
    "name": "ipython",
    "version": 3
   },
   "file_extension": ".py",
   "mimetype": "text/x-python",
   "name": "python",
   "nbconvert_exporter": "python",
   "pygments_lexer": "ipython3",
   "version": "3.10.6"
  }
 },
 "nbformat": 4,
 "nbformat_minor": 5
}
